{
 "cells": [
  {
   "cell_type": "code",
   "execution_count": null,
   "id": "4f741229",
   "metadata": {},
   "outputs": [],
   "source": [
    "import pandas as pd\n",
    "import numpy as np\n",
    "\n",
    "# Örnek bir DataFrame oluşturuyoruz\n",
    "data = {\n",
    "    \"A\": [1, 2, np.nan, 4, 5],\n",
    "    \"B\": [5, np.nan, 7, 8, 10],\n",
    "    \"C\": [9, 10, 11, np.nan, 15]\n",
    "}\n",
    "df = pd.DataFrame(data)\n",
    "\n",
    "print(\"Orijinal DataFrame:\")\n",
    "print(df)"
   ]
  },
  {
   "cell_type": "code",
   "execution_count": null,
   "id": "086e5ee7",
   "metadata": {},
   "outputs": [],
   "source": [
    "# 1. dropna() - Eksik verileri temizleme\n",
    "df_cleaned = df.dropna()\n",
    "print(\"\\n1. dropna() sonrası DataFrame:\")\n",
    "print(df_cleaned)"
   ]
  },
  {
   "cell_type": "code",
   "execution_count": null,
   "id": "7552cfa1",
   "metadata": {},
   "outputs": [],
   "source": [
    "# 2. fillna() - Eksik verileri doldurma\n",
    "df_filled = df.fillna(0)\n",
    "print(\"\\n2. fillna() sonrası DataFrame:\")\n",
    "print(df_filled)"
   ]
  },
  {
   "cell_type": "code",
   "execution_count": null,
   "id": "de7d03b5",
   "metadata": {},
   "outputs": [],
   "source": [
    "# 3. describe() - İstatistiksel özet\n",
    "print(\"\\n3. describe() ile istatistiksel özet:\")\n",
    "print(df.describe())"
   ]
  },
  {
   "cell_type": "code",
   "execution_count": null,
   "id": "1e68706c",
   "metadata": {},
   "outputs": [],
   "source": [
    "# 4. head() - İlk 5 satırı gösterme\n",
    "print(\"\\n4. head() ile ilk 5 satır:\")\n",
    "print(df.head())"
   ]
  },
  {
   "cell_type": "code",
   "execution_count": null,
   "id": "98e08d25",
   "metadata": {},
   "outputs": [],
   "source": [
    "# 5. tail() - Son 5 satırı gösterme\n",
    "print(\"\\n5. tail() ile son 5 satır:\")\n",
    "print(df.tail())"
   ]
  },
  {
   "cell_type": "code",
   "execution_count": null,
   "id": "4e9734d7",
   "metadata": {},
   "outputs": [],
   "source": [
    "# 6. info() - DataFrame hakkında genel bilgi\n",
    "print(\"\\n6. info() ile DataFrame bilgisi:\")\n",
    "df.info()"
   ]
  },
  {
   "cell_type": "code",
   "execution_count": null,
   "id": "39cf45ca",
   "metadata": {},
   "outputs": [],
   "source": [
    "# 7. isnull() - Eksik değerleri tespit etme\n",
    "print(\"\\n7. isnull() ile eksik değerler:\")\n",
    "print(df.isnull())"
   ]
  },
  {
   "cell_type": "code",
   "execution_count": null,
   "id": "43fe87c9",
   "metadata": {},
   "outputs": [],
   "source": [
    "# 8. drop_duplicates() - Yinelenen satırları kaldırma\n",
    "df_dup = pd.DataFrame({\"A\": [1, 2, 2, 4], \"B\": [5, 6, 6, 8]})\n",
    "df_no_duplicates = df_dup.drop_duplicates()\n",
    "print(\"\\n8. drop_duplicates() sonrası DataFrame:\")\n",
    "print(df_no_duplicates)"
   ]
  },
  {
   "cell_type": "code",
   "execution_count": null,
   "id": "e10d5dc1",
   "metadata": {},
   "outputs": [],
   "source": [
    "# 9. groupby() - Gruplama işlemi\n",
    "df_group = pd.DataFrame({\"Kategori\": [\"A\", \"B\", \"A\", \"B\"], \"Değer\": [10, 20, 30, 40]})\n",
    "print(\"\\n9. groupby() ile kategori bazında toplamlar:\")\n",
    "print(df_group.groupby(\"Kategori\").sum())"
   ]
  },
  {
   "cell_type": "code",
   "execution_count": null,
   "id": "1546791f",
   "metadata": {},
   "outputs": [],
   "source": [
    "# 10. apply() - Fonksiyon uygulama\n",
    "df[\"A_kare\"] = df[\"A\"].apply(lambda x: x**2 if pd.notnull(x) else x)\n",
    "print(\"\\n10. apply() ile A sütununun karesi:\")\n",
    "print(df)"
   ]
  }
 ],
 "metadata": {},
 "nbformat": 4,
 "nbformat_minor": 5
}
