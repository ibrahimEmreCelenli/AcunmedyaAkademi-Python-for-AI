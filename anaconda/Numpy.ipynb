{
 "cells": [
  {
   "cell_type": "markdown",
   "id": "12112181-dfa5-4182-8791-fe24b4444072",
   "metadata": {},
   "source": [
    "# Numpy"
   ]
  },
  {
   "cell_type": "code",
   "execution_count": 1,
   "id": "a19eff95-5cd7-44b9-abf2-6228e5be3db4",
   "metadata": {},
   "outputs": [],
   "source": [
    "import numpy as np "
   ]
  },
  {
   "cell_type": "code",
   "execution_count": 2,
   "id": "af4c69ab-0c32-4675-abf7-d88e9250e0c9",
   "metadata": {},
   "outputs": [
    {
     "data": {
      "text/plain": [
       "1"
      ]
     },
     "execution_count": 2,
     "metadata": {},
     "output_type": "execute_result"
    }
   ],
   "source": [
    "vector_arr = np.array([10,20,30])\n",
    "vector_arr.ndim #n dimension"
   ]
  },
  {
   "cell_type": "code",
   "execution_count": 3,
   "id": "ef306ffe-9c6f-42eb-8ca3-d97226108a0e",
   "metadata": {},
   "outputs": [
    {
     "data": {
      "text/plain": [
       "array([ 60,  80, 100])"
      ]
     },
     "execution_count": 3,
     "metadata": {},
     "output_type": "execute_result"
    }
   ],
   "source": [
    "vector_arr2 = np.array([50,60,70])\n",
    "\n",
    "toplam = vector_arr + vector_arr2\n",
    "toplam"
   ]
  },
  {
   "cell_type": "code",
   "execution_count": 4,
   "id": "68660a2f-95c1-45c1-b34f-47b6463f95e6",
   "metadata": {},
   "outputs": [
    {
     "data": {
      "text/plain": [
       "2"
      ]
     },
     "execution_count": 4,
     "metadata": {},
     "output_type": "execute_result"
    }
   ],
   "source": [
    "matrix_arr = np.array(\n",
    "    [\n",
    "        [10,20,30],\n",
    "        [30,40,50]\n",
    "    ]\n",
    ")\n",
    "matrix_arr.ndim"
   ]
  },
  {
   "cell_type": "code",
   "execution_count": 5,
   "id": "f7027fad-e4a7-4072-b861-a4d404153c95",
   "metadata": {},
   "outputs": [
    {
     "data": {
      "text/plain": [
       "(2, 3)"
      ]
     },
     "execution_count": 5,
     "metadata": {},
     "output_type": "execute_result"
    }
   ],
   "source": [
    "matrix_arr2 = np.array(\n",
    "    [\n",
    "        [60,70,80],\n",
    "        [90,100,110]\n",
    "    ]\n",
    ")\n",
    "matrix_arr2.shape"
   ]
  },
  {
   "cell_type": "code",
   "execution_count": 11,
   "id": "921da72d-a6e8-4fb6-90a8-8c5fe3feb1bb",
   "metadata": {},
   "outputs": [
    {
     "data": {
      "text/plain": [
       "array([[ 70,  90, 110],\n",
       "       [130, 150, 170]])"
      ]
     },
     "execution_count": 11,
     "metadata": {},
     "output_type": "execute_result"
    }
   ],
   "source": [
    "matrix_arr3 = np.array(\n",
    "    [\n",
    "        [10,20],\n",
    "        [30,40],\n",
    "        [50,60]\n",
    "    ]\n",
    ")\n",
    "\n",
    "toplam = matrix_arr2 + matrix_arr3.reshape(2,3) # (3,2) yerine (2,3) yaptık\n",
    "toplam"
   ]
  },
  {
   "cell_type": "code",
   "execution_count": 12,
   "id": "273a7d18-cf93-4474-8e52-25548263aae2",
   "metadata": {},
   "outputs": [
    {
     "data": {
      "text/plain": [
       "array([[ 600, 1400, 2400],\n",
       "       [3600, 5000, 6600]])"
      ]
     },
     "execution_count": 12,
     "metadata": {},
     "output_type": "execute_result"
    }
   ],
   "source": [
    "carpim = matrix_arr2 * matrix_arr3.reshape(2,3) # Bu dot product değil düz değerleri çarpma\n",
    "carpim"
   ]
  },
  {
   "cell_type": "code",
   "execution_count": 7,
   "id": "4e1e4840-7032-4fd7-b607-3cbeb15406ea",
   "metadata": {},
   "outputs": [
    {
     "data": {
      "text/plain": [
       "array([[ 6700,  8800],\n",
       "       [ 9400, 12400]])"
      ]
     },
     "execution_count": 7,
     "metadata": {},
     "output_type": "execute_result"
    }
   ],
   "source": [
    "np.dot(matrix_arr2,matrix_arr3)"
   ]
  },
  {
   "cell_type": "markdown",
   "id": "5bf226f6-2b7e-486f-83cc-912f39e6c5f1",
   "metadata": {},
   "source": [
    "# Tensor"
   ]
  },
  {
   "cell_type": "code",
   "execution_count": 14,
   "id": "177cf4e2-f89a-4e13-b549-ce9f58ec9742",
   "metadata": {},
   "outputs": [
    {
     "data": {
      "text/plain": [
       "(24, 3, (4, 3, 2))"
      ]
     },
     "execution_count": 14,
     "metadata": {},
     "output_type": "execute_result"
    }
   ],
   "source": [
    "tensor1 = np.array(\n",
    "    [\n",
    "        [[10,20],[30,40],[50,60]],\n",
    "        [[70,80],[90,100],[110,120]],\n",
    "        [[130,140],[150,160],[170,180]],\n",
    "        [[190,200],[210,220],[230,240]]\n",
    "    ]\n",
    ")\n",
    "tensor1.size, tensor1.ndim, tensor1.shape"
   ]
  },
  {
   "cell_type": "code",
   "execution_count": 18,
   "id": "dde72ba7-29fa-4769-b175-43eafe164ff9",
   "metadata": {},
   "outputs": [
    {
     "data": {
      "text/plain": [
       "array([[[181, 138,  66],\n",
       "        [ 38, 100, 103],\n",
       "        [193,  56,  11],\n",
       "        ...,\n",
       "        [ 33,  16, 127],\n",
       "        [ 13, 124,  39],\n",
       "        [246,  71,  76]],\n",
       "\n",
       "       [[ 31, 249, 158],\n",
       "        [ 40, 108,   3],\n",
       "        [114, 111, 247],\n",
       "        ...,\n",
       "        [249, 157,  32],\n",
       "        [207,  70, 201],\n",
       "        [  4,  35, 214]],\n",
       "\n",
       "       [[ 12, 160, 219],\n",
       "        [175,   5,  86],\n",
       "        [229,  76,  53],\n",
       "        ...,\n",
       "        [220, 129, 204],\n",
       "        [165, 203,  23],\n",
       "        [ 84,  41,  38]],\n",
       "\n",
       "       ...,\n",
       "\n",
       "       [[144,  74, 202],\n",
       "        [ 29, 222,  58],\n",
       "        [108, 190, 231],\n",
       "        ...,\n",
       "        [137, 133, 213],\n",
       "        [ 95, 131,  26],\n",
       "        [103, 171, 235]],\n",
       "\n",
       "       [[  5, 102,  52],\n",
       "        [251, 169,  67],\n",
       "        [ 84, 246, 190],\n",
       "        ...,\n",
       "        [197, 152, 183],\n",
       "        [115,  38, 142],\n",
       "        [ 95,  51, 214]],\n",
       "\n",
       "       [[  9,   9, 196],\n",
       "        [ 53, 251,   4],\n",
       "        [ 17, 162, 150],\n",
       "        ...,\n",
       "        [100, 111, 249],\n",
       "        [ 42, 116,  98],\n",
       "        [106,  22,  63]]], dtype=int32)"
      ]
     },
     "execution_count": 18,
     "metadata": {},
     "output_type": "execute_result"
    }
   ],
   "source": [
    "tensor2 = np.random.randint(0,256,(100,100,3))\n",
    "tensor2"
   ]
  },
  {
   "cell_type": "code",
   "execution_count": 21,
   "id": "8d4c60f7-61cc-40e9-8d10-a7f8d8d0395f",
   "metadata": {},
   "outputs": [
    {
     "ename": "ModuleNotFoundError",
     "evalue": "No module named 'PIL'",
     "output_type": "error",
     "traceback": [
      "\u001b[1;31m---------------------------------------------------------------------------\u001b[0m",
      "\u001b[1;31mModuleNotFoundError\u001b[0m                       Traceback (most recent call last)",
      "Cell \u001b[1;32mIn[21], line 1\u001b[0m\n\u001b[1;32m----> 1\u001b[0m \u001b[38;5;28;01mfrom\u001b[39;00m\u001b[38;5;250m \u001b[39m\u001b[38;5;21;01mPIL\u001b[39;00m\u001b[38;5;250m \u001b[39m\u001b[38;5;28;01mimport\u001b[39;00m Image\n\u001b[0;32m      2\u001b[0m image \u001b[38;5;241m=\u001b[39m Image\u001b[38;5;241m.\u001b[39mopen(\u001b[38;5;124m\"\u001b[39m\u001b[38;5;124mkedi.jpg\u001b[39m\u001b[38;5;124m\"\u001b[39m)\n\u001b[0;32m      3\u001b[0m image_array \u001b[38;5;241m=\u001b[39m np\u001b[38;5;241m.\u001b[39marray(image)\n",
      "\u001b[1;31mModuleNotFoundError\u001b[0m: No module named 'PIL'"
     ]
    }
   ],
   "source": [
    "from PIL import Image\n",
    "image = Image.open(\"kedi.jpg\")\n",
    "image_array = np.array(image)\n",
    "image_array.shape"
   ]
  },
  {
   "cell_type": "code",
   "execution_count": null,
   "id": "961c2ba6-1074-4852-a0e1-2931d19efe6d",
   "metadata": {},
   "outputs": [],
   "source": []
  }
 ],
 "metadata": {
  "kernelspec": {
   "display_name": "Python 3 (ipykernel)",
   "language": "python",
   "name": "python3"
  },
  "language_info": {
   "codemirror_mode": {
    "name": "ipython",
    "version": 3
   },
   "file_extension": ".py",
   "mimetype": "text/x-python",
   "name": "python",
   "nbconvert_exporter": "python",
   "pygments_lexer": "ipython3",
   "version": "3.9.21"
  }
 },
 "nbformat": 4,
 "nbformat_minor": 5
}
